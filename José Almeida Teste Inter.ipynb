{
 "cells": [
  {
   "cell_type": "markdown",
   "id": "2caac80e",
   "metadata": {},
   "source": [
    "Nome Formando: José ALmeida"
   ]
  },
  {
   "cell_type": "markdown",
   "id": "3f1a244a",
   "metadata": {},
   "source": [
    "1 - Escreve uma linha de código que imprime “Olá Mundo!”"
   ]
  },
  {
   "cell_type": "code",
   "execution_count": 1,
   "id": "bbbfc134",
   "metadata": {},
   "outputs": [
    {
     "name": "stdout",
     "output_type": "stream",
     "text": [
      "Olá Mundo!\n"
     ]
    }
   ],
   "source": [
    "print(\"Olá Mundo!\")"
   ]
  },
  {
   "cell_type": "markdown",
   "id": "1fdb9fc0",
   "metadata": {},
   "source": [
    "2 - Escreva uma função contido(x,a,b) que verifica se o valor x está contido entre a e b.\n",
    "\n",
    "O resultado deverá ser True se x ∈ [a, b] e False caso contrário. Pode assumir que a ≤ b.\n",
    "\n",
    "Exemplo:\n",
    "\n",
    "contido(2,1,3) -> True\n",
    "\n",
    "contido(10,1,3) -> False"
   ]
  },
  {
   "cell_type": "code",
   "execution_count": 10,
   "id": "9e90a3a4",
   "metadata": {},
   "outputs": [
    {
     "name": "stdout",
     "output_type": "stream",
     "text": [
      "False\n"
     ]
    }
   ],
   "source": [
    "x = 10\n",
    "a = 1\n",
    "b = 3\n",
    "\n",
    "def contido(x:int, a:int, b:int)-> bool:\n",
    "    # função que verifica se x está no meio do intervalo\n",
    "    if (x >= a and x <= b):\n",
    "        return True\n",
    "    else:\n",
    "        return False\n",
    "\n",
    "print(contido(x,a,b))"
   ]
  },
  {
   "cell_type": "markdown",
   "id": "b6610665",
   "metadata": {},
   "source": [
    "3 - Escreve um programa que pede o nome e a idade do utilizador, em seguida imprime uma das seguintes mensagens:\n",
    "\n",
    "* Se a idade for inferior a 18 anos -> O utilizador {substituir por nome} é menor de idade, porque tem apenas {substituir por idade} anos.\n",
    "* Se a idade for igual ou superior a 18 anos -> O utilizador {substituir por nome} é maior de idade, porque tem {substituir por idade} anos.\n"
   ]
  },
  {
   "cell_type": "code",
   "execution_count": 12,
   "id": "3dce8a1c",
   "metadata": {},
   "outputs": [
    {
     "name": "stdout",
     "output_type": "stream",
     "text": [
      "Qual o seu nome? Teresa\n",
      "Qual a sua idade? 11\n",
      "O utilizador Teresa é menor de idade, porque tem apenas 11 anos.\n"
     ]
    }
   ],
   "source": [
    "nome = input(\"Qual o seu nome? \")\n",
    "idade = int(input(\"Qual a sua idade? \"))\n",
    "\n",
    "if idade < 18:\n",
    "    print(f\"O utilizador {nome} é menor de idade, porque tem apenas {idade} anos.\")\n",
    "else:\n",
    "    print(f\"O utilizador {nome} é maior de idade, porque tem {idade} anos.\")\n"
   ]
  },
  {
   "cell_type": "markdown",
   "id": "813ad79d",
   "metadata": {},
   "source": [
    "4 - Escreve um programa que pede ao utilizador uma nota de um exame (inteiro de 0 a 100) e depois imprime a respetiva nota numa escala de letras, com estas regras:\n",
    "\n",
    "* A -> notas maiores que 89\n",
    "* B -> notas entre 80 e 89\n",
    "* C -> notas entre 70 e 79\n",
    "* D -> notas entre 50 e 69\n",
    "* E-> notas entre 0 e 49\n"
   ]
  },
  {
   "cell_type": "code",
   "execution_count": 22,
   "id": "993f6cbf",
   "metadata": {},
   "outputs": [
    {
     "name": "stdout",
     "output_type": "stream",
     "text": [
      "Qual foi a sua nota no exame? 50\n",
      "A sua nota foi: D\n"
     ]
    }
   ],
   "source": [
    "nota = int(input(\"Qual foi a sua nota no exame? \"))\n",
    "\n",
    "if nota > 89 and nota <= 100:\n",
    "    print(\"A sua nota foi: A\")\n",
    "elif nota >= 80 and nota <= 89:\n",
    "    print(\"A sua nota foi: B\")\n",
    "elif nota >= 70 and nota <= 79:\n",
    "    print(\"A sua nota foi: C\")\n",
    "elif nota >= 50 and nota <= 69:\n",
    "    print(\"A sua nota foi: D\")\n",
    "elif nota >= 0 and nota <= 49:\n",
    "    print(\"A sua nota foi: E\")\n",
    "else:\n",
    "    print(\"Nota introduzida fora do intervalo 0% a 100%\")"
   ]
  },
  {
   "cell_type": "markdown",
   "id": "8339f6b8",
   "metadata": {},
   "source": [
    "5 - Dado esta lista:\n",
    "\n",
    "a = [1, 10, 2, 3, 5, 8, 13, 21, 34, 55, 89]\n",
    "\n",
    "Escreve um programa que imprime todos os elementos da lista ‘a’ menores que 5.\n"
   ]
  },
  {
   "cell_type": "code",
   "execution_count": 31,
   "id": "e816df81",
   "metadata": {},
   "outputs": [
    {
     "name": "stdout",
     "output_type": "stream",
     "text": [
      "[1, 2, 3]\n"
     ]
    }
   ],
   "source": [
    "a = [1, 10, 2, 3, 5, 8, 13, 21, 34, 55, 89]\n",
    "\n",
    "a_menores = []\n",
    "\n",
    "i = 0\n",
    "\n",
    "while i < len(a):\n",
    "    if a[i] < 5:\n",
    "        a_menores.append(a[i])\n",
    "    i = i + 1\n",
    "        \n",
    "print(a_menores)\n"
   ]
  },
  {
   "cell_type": "markdown",
   "id": "8809d5bf",
   "metadata": {},
   "source": [
    "6 - Escreva uma função corta(s) que calcula e retorna a string que resulta de eliminar os sinais de pontuação da string ‘s’.\n",
    "\n",
    "Os sinais de pontuação que podem ocorrer em ‘s’ são:\n",
    "* . -> ponto final\n",
    "* , -> virgula\n",
    "* ; -> ponto e virgula\n",
    "* ! -> ponto de esclamação\n",
    "* ? -> ponto de interrogação\n",
    "\n",
    "Por exemplo:\n",
    "corta(\"Que lindo... Dia!?\") -> \"Que lindo Dia\"\n"
   ]
  },
  {
   "cell_type": "code",
   "execution_count": 42,
   "id": "8c401324",
   "metadata": {},
   "outputs": [
    {
     "name": "stdout",
     "output_type": "stream",
     "text": [
      "Que lindo Dia\n"
     ]
    }
   ],
   "source": [
    "s = \"Que lindo... Dia!?\"\n",
    "\n",
    "def corta(s:str) ->str:\n",
    "    #\n",
    "    s_cortada = \"\"\n",
    "    i = 0\n",
    "    while i < len(s):\n",
    "        if s[i] in \".,;!?\":\n",
    "           pass\n",
    "        else:\n",
    "            s_cortada = s_cortada + s[i]\n",
    "        i = i + 1\n",
    "    return s_cortada\n",
    "\n",
    "s1 = corta(s)\n",
    "\n",
    "print(s1)\n"
   ]
  },
  {
   "cell_type": "markdown",
   "id": "e5fee001",
   "metadata": {},
   "source": [
    "7 - Escreva uma funçao segundo(a) que retorna o segundo menor elemento da lista de inteiros ‘a’. Admite-se que todos os inteiros de ‘a’ são distintos e que ‘a’ contém pelo menos 2 inteiros. \n",
    "\n",
    "Exemplo:\n",
    "\n",
    "segundo([1,2]) -> 2\n",
    "\n",
    "segundo([9,2,8,4,3,5]) -> 3\n",
    "\n",
    "A função que escrever deverá conter apenas um ciclo (while ou for). Não pode usar “min”, “max” ou funções de ordenacão\n"
   ]
  },
  {
   "cell_type": "code",
   "execution_count": 56,
   "id": "50f0d990",
   "metadata": {},
   "outputs": [
    {
     "name": "stdout",
     "output_type": "stream",
     "text": [
      "3\n"
     ]
    }
   ],
   "source": [
    "a = [9,2,8,4,3,5]\n",
    "\n",
    "def segundo(a: list)->int:\n",
    "    #\n",
    "    i = 0\n",
    "    while i < len(a)-1:\n",
    "        if a[i+1] > a[i]:\n",
    "            i = i + 1\n",
    "        else:\n",
    "            a[i+1],a[i] = a[i], a[i+1]\n",
    "            i = 0\n",
    "           \n",
    "    return a[1]\n",
    "    \n",
    "b = segundo(a)\n",
    "\n",
    "print(b)    \n",
    "\n"
   ]
  },
  {
   "cell_type": "code",
   "execution_count": null,
   "id": "7f35413e",
   "metadata": {},
   "outputs": [],
   "source": []
  },
  {
   "cell_type": "code",
   "execution_count": null,
   "id": "6b05a8f9",
   "metadata": {},
   "outputs": [],
   "source": []
  }
 ],
 "metadata": {
  "kernelspec": {
   "display_name": "Python 3 (ipykernel)",
   "language": "python",
   "name": "python3"
  },
  "language_info": {
   "codemirror_mode": {
    "name": "ipython",
    "version": 3
   },
   "file_extension": ".py",
   "mimetype": "text/x-python",
   "name": "python",
   "nbconvert_exporter": "python",
   "pygments_lexer": "ipython3",
   "version": "3.10.9"
  }
 },
 "nbformat": 4,
 "nbformat_minor": 5
}
